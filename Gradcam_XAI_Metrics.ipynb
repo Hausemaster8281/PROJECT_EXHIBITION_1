{
 "cells": [
  {
   "cell_type": "code",
   "execution_count": 1,
   "id": "d56bc962-baec-44df-987a-a682a088062f",
   "metadata": {},
   "outputs": [],
   "source": [
    "import torch\n",
    "import torch.nn as nn\n",
    "import cv2\n",
    "import numpy as np\n",
    "import matplotlib.pyplot as plt\n",
    "import torchvision\n",
    "from torchvision import transforms\n",
    "import torch.nn.functional as F\n",
    "from sklearn.metrics import confusion_matrix, classification_report\n",
    "import seaborn as sns\n",
    "import os"
   ]
  },
  {
   "cell_type": "code",
   "execution_count": 2,
   "id": "739ba554-c79b-4c08-bbe4-d813cc86f0d6",
   "metadata": {},
   "outputs": [],
   "source": [
    "# Define Grad-CAM class\n",
    "class GradCAM:\n",
    "    def __init__(self, model, target_layer):\n",
    "        self.model = model\n",
    "        self.target_layer = target_layer\n",
    "        self.gradients = None\n",
    "        self.activations = None\n",
    "\n",
    "        # Hook for gradients\n",
    "        def backward_hook(module, grad_input, grad_output):\n",
    "            self.gradients = grad_output[0]\n",
    "\n",
    "        # Hook for forward activations\n",
    "        def forward_hook(module, input, output):\n",
    "            self.activations = output\n",
    "\n",
    "        self.target_layer.register_forward_hook(forward_hook)\n",
    "        self.target_layer.register_backward_hook(backward_hook)\n",
    "\n",
    "    def generate_cam(self, input_tensor, target_class=None):\n",
    "        self.model.eval()\n",
    "\n",
    "        # Forward pass to get outputs\n",
    "        output = self.model(input_tensor)\n",
    "        if target_class is None:\n",
    "            target_class = torch.argmax(output)\n",
    "\n",
    "        # Backpropagate gradients for the target class\n",
    "        self.model.zero_grad()\n",
    "        output[:, target_class].backward()\n",
    "\n",
    "        # Compute the Grad-CAM\n",
    "        gradients = self.gradients.detach().cpu().numpy()  # Detach gradients before converting\n",
    "        activations = self.activations.detach().cpu().numpy()  # Detach activations before converting\n",
    "        weights = np.mean(gradients, axis=(2, 3))  # Global average pooling\n",
    "        cam = np.zeros(activations.shape[2:], dtype=np.float32)\n",
    "        for i, w in enumerate(weights[0]):\n",
    "            cam += w * activations[0, i]\n",
    "\n",
    "        cam = np.maximum(cam, 0)\n",
    "        cam = cv2.resize(cam, (224, 224))\n",
    "        cam = (cam - cam.min()) / (cam.max() - cam.min())  # Normalize\n",
    "        return cam"
   ]
  },
  {
   "cell_type": "code",
   "execution_count": 3,
   "id": "3bb328c1-77db-4e73-b074-61556539016c",
   "metadata": {},
   "outputs": [],
   "source": [
    "# Preprocessing function\n",
    "def preprocess_image(image_path):\n",
    "    transform = transforms.Compose([\n",
    "        transforms.ToPILImage(),\n",
    "        transforms.Resize((224, 224)),\n",
    "        transforms.ToTensor(),\n",
    "        transforms.Normalize(mean=[0.485, 0.456, 0.406], std=[0.229, 0.224, 0.225]),\n",
    "    ])\n",
    "    image = cv2.imread(image_path)\n",
    "    image = cv2.cvtColor(image, cv2.COLOR_BGR2RGB)  # Convert BGR to RGB\n",
    "    image_tensor = transform(image).unsqueeze(0)  # Add batch dimension\n",
    "    return image_tensor"
   ]
  },
  {
   "cell_type": "code",
   "execution_count": 4,
   "id": "aebdc33e-ecc1-4268-b233-42075864cef6",
   "metadata": {},
   "outputs": [],
   "source": [
    "\n",
    "# Load the model architecture and weights\n",
    "def load_model(model_path):\n",
    "    model = torchvision.models.vgg16(pretrained=False)  # Example: VGG16\n",
    "    model.classifier[6] = nn.Linear(in_features=4096, out_features=2)  # Adjust the last layer for binary classification\n",
    "    model.load_state_dict(torch.load(model_path, map_location=torch.device(\"cpu\")))  # Load the model weights\n",
    "    model.eval()  # Set model to evaluation mode\n",
    "    return model\n"
   ]
  },
  {
   "cell_type": "code",
   "execution_count": 5,
   "id": "133251af-d484-4849-8b4e-c0a484b8065a",
   "metadata": {},
   "outputs": [],
   "source": [
    "# Function to predict and generate heatmap\n",
    "def predict_and_generate_heatmap(model, image_path, target_layer, ground_truth_label):\n",
    "    input_tensor = preprocess_image(image_path).to(device)\n",
    "    \n",
    "    # Initialize Grad-CAM\n",
    "    gradcam = GradCAM(model=model, target_layer=target_layer)\n",
    "\n",
    "    # Generate the heatmap\n",
    "    cam = gradcam.generate_cam(input_tensor)\n",
    "\n",
    "    # Make prediction\n",
    "    with torch.no_grad():\n",
    "        output = model(input_tensor)\n",
    "        _, predicted = torch.max(output, 1)\n",
    "        predicted_label = \"Infected\" if predicted.item() == 1 else \"Uninfected\"\n",
    "\n",
    "    # Confusion Matrix Calculation\n",
    "    actual_label = ground_truth_label  # Use ground truth label provided\n",
    "    return actual_label, predicted.item(), cam, predicted_label\n"
   ]
  },
  {
   "cell_type": "code",
   "execution_count": 6,
   "id": "ef5993bc-2323-4100-a017-71d276e36999",
   "metadata": {},
   "outputs": [],
   "source": [
    "# Function to evaluate all images in a folder\n",
    "def evaluate_images_in_folder(model, folder_path, target_layer):\n",
    "    # Lists to collect predictions and ground truth labels\n",
    "    all_actual_labels = []\n",
    "    all_predicted_labels = []\n",
    "    \n",
    "    # Process all images in the directory\n",
    "    for subfolder in os.listdir(folder_path):\n",
    "        subfolder_path = os.path.join(folder_path, subfolder)\n",
    "        \n",
    "        if os.path.isdir(subfolder_path):\n",
    "            ground_truth_label = 1 if subfolder == \"infected\" else 0  # Set ground truth based on folder name\n",
    "\n",
    "            for filename in os.listdir(subfolder_path):\n",
    "                image_path = os.path.join(subfolder_path, filename)\n",
    "\n",
    "                actual_label, predicted_label, cam, predicted_label_str = predict_and_generate_heatmap(\n",
    "                    model, image_path, target_layer, ground_truth_label\n",
    "                )\n",
    "\n",
    "                all_actual_labels.append(actual_label)\n",
    "                all_predicted_labels.append(predicted_label)\n",
    "    \n",
    "    # Compute confusion matrix\n",
    "    cm = confusion_matrix(all_actual_labels, all_predicted_labels)\n",
    "\n",
    "    # Generate classification report\n",
    "    report = classification_report(all_actual_labels, all_predicted_labels, target_names=[\"Uninfected\", \"Infected\"], output_dict=True)\n",
    "\n",
    "    # Visualize confusion matrix\n",
    "    plt.figure(figsize=(6, 5))\n",
    "    sns.heatmap(cm, annot=True, fmt='d', cmap='Blues', xticklabels=[\"Uninfected\", \"Infected\"], yticklabels=[\"Uninfected\", \"Infected\"])\n",
    "    plt.title(\"Confusion Matrix\")\n",
    "    plt.ylabel('Actual')\n",
    "    plt.xlabel('Predicted')\n",
    "    plt.show()\n",
    "\n",
    "    # Print classification report\n",
    "    print(\"\\nClassification Report:\")\n",
    "    print(f\"Accuracy: {report['accuracy']:.2f}\")\n",
    "    print(f\"Precision (Uninfected): {report['Uninfected']['precision']:.2f}\")\n",
    "    print(f\"Recall (Uninfected): {report['Uninfected']['recall']:.2f}\")\n",
    "    print(f\"F1-Score (Uninfected): {report['Uninfected']['f1-score']:.2f}\")\n",
    "    print(f\"Precision (Infected): {report['Infected']['precision']:.2f}\")\n",
    "    print(f\"Recall (Infected): {report['Infected']['recall']:.2f}\")\n",
    "    print(f\"F1-Score (Infected): {report['Infected']['f1-score']:.2f}\")"
   ]
  },
  {
   "cell_type": "code",
   "execution_count": 7,
   "id": "596f51eb-d3da-489c-9530-96d8b5a4fffa",
   "metadata": {},
   "outputs": [
    {
     "name": "stderr",
     "output_type": "stream",
     "text": [
      "/home/hausemaster/.local/lib/python3.12/site-packages/torchvision/models/_utils.py:208: UserWarning: The parameter 'pretrained' is deprecated since 0.13 and may be removed in the future, please use 'weights' instead.\n",
      "  warnings.warn(\n",
      "/home/hausemaster/.local/lib/python3.12/site-packages/torchvision/models/_utils.py:223: UserWarning: Arguments other than a weight enum or `None` for 'weights' are deprecated since 0.13 and may be removed in the future. The current behavior is equivalent to passing `weights=None`.\n",
      "  warnings.warn(msg)\n",
      "/tmp/ipykernel_26595/517888218.py:5: FutureWarning: You are using `torch.load` with `weights_only=False` (the current default value), which uses the default pickle module implicitly. It is possible to construct malicious pickle data which will execute arbitrary code during unpickling (See https://github.com/pytorch/pytorch/blob/main/SECURITY.md#untrusted-models for more details). In a future release, the default value for `weights_only` will be flipped to `True`. This limits the functions that could be executed during unpickling. Arbitrary objects will no longer be allowed to be loaded via this mode unless they are explicitly allowlisted by the user via `torch.serialization.add_safe_globals`. We recommend you start setting `weights_only=True` for any use case where you don't have full control of the loaded file. Please open an issue on GitHub for any issues related to this experimental feature.\n",
      "  model.load_state_dict(torch.load(model_path, map_location=torch.device(\"cpu\")))  # Load the model weights\n",
      "/home/hausemaster/.local/lib/python3.12/site-packages/torch/nn/modules/module.py:1827: FutureWarning: Using a non-full backward hook when the forward contains multiple autograd Nodes is deprecated and will be removed in future versions. This hook will be missing some grad_input. Please use register_full_backward_hook to get the documented behavior.\n",
      "  self._maybe_warn_non_full_backward_hook(args, result, grad_fn)\n"
     ]
    },
    {
     "data": {
      "image/png": "[encoded data removed]",
      "text/plain": [
       "<Figure size 600x500 with 2 Axes>"
      ]
     },
     "metadata": {},
     "output_type": "display_data"
    },
    {
     "name": "stdout",
     "output_type": "stream",
     "text": [
      "\n",
      "Classification Report:\n",
      "Accuracy: 0.96\n",
      "Precision (Uninfected): 0.95\n",
      "Recall (Uninfected): 0.97\n",
      "F1-Score (Uninfected): 0.96\n",
      "Precision (Infected): 0.97\n",
      "Recall (Infected): 0.95\n",
      "F1-Score (Infected): 0.96\n"
     ]
    }
   ],
   "source": [
    "# Main execution\n",
    "if __name__ == \"__main__\":\n",
    "    # Set device\n",
    "    device = torch.device(\"cuda\" if torch.cuda.is_available() else \"cpu\")\n",
    "\n",
    "    # Load the model (make sure the path is correct)\n",
    "    model_path = \"cancer_model_full_dataset.pth\"  # Path to your saved model\n",
    "    model = load_model(model_path).to(device)\n",
    "\n",
    "    # Folder path containing images (e.g., \"test_eval/infected/\" and \"test_eval/uninfected/\")\n",
    "    folder_path = \"TEST_METRICS\"  # Path to the parent folder containing \"infected\" and \"uninfected\"\n",
    "    target_layer = model.features[29]  # Set the target layer for Grad-CAM\n",
    "    \n",
    "    # Evaluate all images in the folder and generate confusion matrix\n",
    "    evaluate_images_in_folder(model, folder_path, target_layer)"
   ]
  },
  {
   "cell_type": "code",
   "execution_count": null,
   "id": "383c6018-85c4-4e4e-a49b-c365a7a7e80b",
   "metadata": {},
   "outputs": [],
   "source": []
  }
 ],
 "metadata": {
  "kernelspec": {
   "display_name": "Python 3 (ipykernel)",
   "language": "python",
   "name": "python3"
  },
  "language_info": {
   "codemirror_mode": {
    "name": "ipython",
    "version": 3
   },
   "file_extension": ".py",
   "mimetype": "text/x-python",
   "name": "python",
   "nbconvert_exporter": "python",
   "pygments_lexer": "ipython3",
   "version": "3.12.3"
  }
 },
 "nbformat": 4,
 "nbformat_minor": 5
}
