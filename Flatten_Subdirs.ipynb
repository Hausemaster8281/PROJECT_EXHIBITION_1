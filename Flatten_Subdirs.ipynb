{
 "cells": [
  {
   "cell_type": "code",
   "execution_count": 5,
   "id": "7d0e2521-94b5-4b33-9992-f2268b3b1f23",
   "metadata": {},
   "outputs": [
    {
     "name": "stdin",
     "output_type": "stream",
     "text": [
      "Enter the directory path to flatten:  data/uninfected\n"
     ]
    },
    {
     "name": "stdout",
     "output_type": "stream",
     "text": [
      "Successfully flattened the directory: data/uninfected\n"
     ]
    }
   ],
   "source": [
    "import os\n",
    "import shutil\n",
    "\n",
    "def flatten_directory(root_dir):\n",
    "    \"\"\"\n",
    "    Flattens all subdirectories of the specified directory into the root directory.\n",
    "\n",
    "    Args:\n",
    "        root_dir (str): The path to the directory to flatten.\n",
    "    \"\"\"\n",
    "    for dirpath, dirnames, filenames in os.walk(root_dir):\n",
    "        # Skip the root directory itself\n",
    "        if dirpath == root_dir:\n",
    "            continue\n",
    "        \n",
    "        for file in filenames:\n",
    "            source = os.path.join(dirpath, file)\n",
    "            destination = os.path.join(root_dir, file)\n",
    "            \n",
    "            # Rename if a file with the same name exists\n",
    "            if os.path.exists(destination):\n",
    "                base, ext = os.path.splitext(file)\n",
    "                counter = 1\n",
    "                while os.path.exists(destination):\n",
    "                    destination = os.path.join(root_dir, f\"{base}_{counter}{ext}\")\n",
    "                    counter += 1\n",
    "\n",
    "            # Move the file\n",
    "            shutil.move(source, destination)\n",
    "\n",
    "        # Remove the empty directory\n",
    "        os.rmdir(dirpath)\n",
    "\n",
    "if __name__ == \"__main__\":\n",
    "    directory = input(\"Enter the directory path to flatten: \").strip()\n",
    "    \n",
    "    if os.path.isdir(directory):\n",
    "        flatten_directory(directory)\n",
    "        print(f\"Successfully flattened the directory: {directory}\")\n",
    "    else:\n",
    "        print(f\"Invalid directory: {directory}\")\n"
   ]
  },
  {
   "cell_type": "code",
   "execution_count": null,
   "id": "3ae8ca33-f608-4b72-b991-3ad279866c52",
   "metadata": {},
   "outputs": [],
   "source": []
  },
  {
   "cell_type": "code",
   "execution_count": null,
   "id": "2696c8c9-9c55-4a14-8c7c-e157bd9036c6",
   "metadata": {},
   "outputs": [],
   "source": []
  }
 ],
 "metadata": {
  "kernelspec": {
   "display_name": "Python 3 (ipykernel)",
   "language": "python",
   "name": "python3"
  },
  "language_info": {
   "codemirror_mode": {
    "name": "ipython",
    "version": 3
   },
   "file_extension": ".py",
   "mimetype": "text/x-python",
   "name": "python",
   "nbconvert_exporter": "python",
   "pygments_lexer": "ipython3",
   "version": "3.12.3"
  }
 },
 "nbformat": 4,
 "nbformat_minor": 5
}
