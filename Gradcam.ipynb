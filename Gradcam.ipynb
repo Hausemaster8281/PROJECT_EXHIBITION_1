{
 "cells": [
  {
   "cell_type": "code",
   "execution_count": 1,
   "id": "9a804cfb-9f7e-4c0f-8844-b9408fb072f9",
   "metadata": {},
   "outputs": [],
   "source": [
    "import os\n",
    "from sklearn.model_selection import train_test_split\n",
    "from torchvision import datasets, transforms\n",
    "from torch.utils.data import DataLoader, Dataset\n",
    "from PIL import Image\n",
    "import torch\n",
    "\n",
    "# Define paths\n",
    "data_dir = \"data\"\n",
    "infected_dir = os.path.join(data_dir, \"infected\")\n",
    "uninfected_dir = os.path.join(data_dir, \"uninfected\")\n"
   ]
  },
  {
   "cell_type": "code",
   "execution_count": 2,
   "id": "a35476e6-fa26-42bc-affb-a324d948ccfe",
   "metadata": {},
   "outputs": [],
   "source": [
    "class CellDataset(Dataset):\n",
    "    def __init__(self, file_paths, labels, transform=None):\n",
    "        self.file_paths = file_paths\n",
    "        self.labels = labels\n",
    "        self.transform = transform\n",
    "\n",
    "    def __len__(self):\n",
    "        return len(self.file_paths)\n",
    "\n",
    "    def __getitem__(self, idx):\n",
    "        img_path = self.file_paths[idx]\n",
    "        image = Image.open(img_path).convert(\"RGB\")  # Convert .tif to RGB\n",
    "        label = self.labels[idx]\n",
    "\n",
    "        if self.transform:\n",
    "            image = self.transform(image)\n",
    "\n",
    "        return image, label\n"
   ]
  },
  {
   "cell_type": "code",
   "execution_count": 3,
   "id": "cfd0debc-666c-4cfc-a0f7-636a2fdb7dda",
   "metadata": {},
   "outputs": [],
   "source": [
    "# Get all file paths and labels\n",
    "infected_files = [os.path.join(infected_dir, f) for f in os.listdir(infected_dir) if f.endswith('.tif')]\n",
    "uninfected_files = [os.path.join(uninfected_dir, f) for f in os.listdir(uninfected_dir) if f.endswith('.tif')]\n",
    "\n",
    "infected_labels = [1] * len(infected_files)  # Label for infected\n",
    "uninfected_labels = [0] * len(uninfected_files)  # Label for uninfected\n",
    "\n",
    "all_files = infected_files + uninfected_files\n",
    "all_labels = infected_labels + uninfected_labels\n",
    "\n",
    "# Split into train and validation\n",
    "train_files, val_files, train_labels, val_labels = train_test_split(all_files, all_labels, test_size=0.2, stratify=all_labels, random_state=42)\n"
   ]
  },
  {
   "cell_type": "code",
   "execution_count": 4,
   "id": "d597fc39-bb19-4e19-8595-ff054830a323",
   "metadata": {},
   "outputs": [],
   "source": [
    "transform = transforms.Compose([\n",
    "    transforms.Resize((224, 224)),  # Resize to match VGG input size\n",
    "    transforms.ToTensor(),          # Convert image to tensor\n",
    "    transforms.Normalize([0.485, 0.456, 0.406], [0.229, 0.224, 0.225])  # Normalize\n",
    "])\n"
   ]
  },
  {
   "cell_type": "code",
   "execution_count": 5,
   "id": "86d52e0c-7e93-44c5-ae70-8126621015c3",
   "metadata": {},
   "outputs": [],
   "source": [
    "# Create dataset objects\n",
    "train_dataset = CellDataset(train_files, train_labels, transform=transform)\n",
    "val_dataset = CellDataset(val_files, val_labels, transform=transform)\n",
    "\n",
    "# Create dataloaders\n",
    "train_loader = DataLoader(train_dataset, batch_size=42,shuffle=True)\n",
    "val_loader = DataLoader(val_dataset, batch_size=42, shuffle=False)\n"
   ]
  },
  {
   "cell_type": "code",
   "execution_count": 6,
   "id": "789a05dd-590d-44d4-9c0e-d7bf054ef9c5",
   "metadata": {},
   "outputs": [],
   "source": [
    "from torchvision import models\n",
    "import torch.nn as nn\n",
    "\n",
    "# Load pre-trained VGG16 using the new 'weights' parameter\n",
    "vgg = models.vgg16(weights=models.VGG16_Weights.IMAGENET1K_V1)\n",
    "\n",
    "# Modify the final classifier layer to adapt for binary classification (Infected vs Uninfected)\n",
    "vgg.classifier[6] = nn.Linear(vgg.classifier[6].in_features, 2)\n",
    "\n",
    "# Move the model to GPU if available\n",
    "device = torch.device(\"cuda\" if torch.cuda.is_available() else \"cpu\")\n",
    "vgg = vgg.to(device)\n"
   ]
  },
  {
   "cell_type": "code",
   "execution_count": 7,
   "id": "7286ac5f-cffd-4a80-81b9-02367c474405",
   "metadata": {},
   "outputs": [],
   "source": [
    "from tqdm import tqdm\n",
    "\n",
    "def train_model(model, train_loader, val_loader, criterion, optimizer, epochs=10):\n",
    "    model.train()  # Set the model to training mode\n",
    "    for epoch in range(epochs):\n",
    "        running_loss = 0.0\n",
    "        \n",
    "        # Create a tqdm progress bar for the training loop\n",
    "        with tqdm(train_loader, desc=f\"Epoch {epoch + 1}/{epochs}\", unit=\"batch\") as progress_bar:\n",
    "            for inputs, labels in progress_bar:\n",
    "                # Move data to device\n",
    "                inputs, labels = inputs.to(device), labels.to(device)\n",
    "\n",
    "                # Zero the parameter gradients\n",
    "                optimizer.zero_grad()\n",
    "\n",
    "                # Forward pass\n",
    "                outputs = model(inputs)\n",
    "                loss = criterion(outputs, labels)\n",
    "\n",
    "                # Backward pass and optimize\n",
    "                loss.backward()\n",
    "                optimizer.step()\n",
    "\n",
    "                # Track loss\n",
    "                running_loss += loss.item()\n",
    "\n",
    "                # Update progress bar description with the average loss\n",
    "                progress_bar.set_postfix(loss=running_loss / (progress_bar.n + 1))\n",
    "\n",
    "        # Print training loss for the epoch\n",
    "        print(f\"Epoch {epoch + 1}/{epochs}, Training Loss: {running_loss / len(train_loader):.4f}\")\n",
    "\n",
    "        # Evaluate on the validation set after every epoch\n",
    "        validate_model(model, val_loader)\n",
    "\n"
   ]
  },
  {
   "cell_type": "code",
   "execution_count": 8,
   "id": "4574f83b-5d87-4e94-8309-6e5c52157584",
   "metadata": {},
   "outputs": [],
   "source": [
    "def validate_model(model, val_loader):\n",
    "    model.eval()  # Set the model to evaluation mode\n",
    "    correct = 0\n",
    "    total = 0\n",
    "    running_loss = 0.0\n",
    "    with torch.no_grad():  # Disable gradient calculations for validation\n",
    "        for inputs, labels in val_loader:\n",
    "            inputs, labels = inputs.to(device), labels.to(device)\n",
    "\n",
    "            # Forward pass\n",
    "            outputs = model(inputs)\n",
    "            _, predicted = torch.max(outputs, 1)\n",
    "\n",
    "            # Calculate accuracy\n",
    "            total += labels.size(0)\n",
    "            correct += (predicted == labels).sum().item()\n",
    "\n",
    "    accuracy = 100 * correct / total\n",
    "    print(f\"Validation Accuracy: {accuracy:.2f}%\")\n",
    "    return accuracy\n"
   ]
  },
  {
   "cell_type": "code",
   "execution_count": 9,
   "id": "07846b12-f528-42db-bd43-1365f7c69c9e",
   "metadata": {},
   "outputs": [
    {
     "name": "stderr",
     "output_type": "stream",
     "text": [
      "Epoch 1/4: 100%|█████████████████████████████████████████████████████████████████████████████████████████████████████████| 602/602 [2:11:51<00:00, 13.14s/batch, loss=0.178]\n"
     ]
    },
    {
     "name": "stdout",
     "output_type": "stream",
     "text": [
      "Epoch 1/4, Training Loss: 0.1776\n",
      "Validation Accuracy: 95.50%\n"
     ]
    },
    {
     "name": "stderr",
     "output_type": "stream",
     "text": [
      "Epoch 2/4: 100%|████████████████████████████████████████████████████████████████████████████████████████████████████████| 602/602 [2:10:13<00:00, 12.98s/batch, loss=0.0925]\n"
     ]
    },
    {
     "name": "stdout",
     "output_type": "stream",
     "text": [
      "Epoch 2/4, Training Loss: 0.0925\n",
      "Validation Accuracy: 95.01%\n"
     ]
    },
    {
     "name": "stderr",
     "output_type": "stream",
     "text": [
      "Epoch 3/4: 100%|████████████████████████████████████████████████████████████████████████████████████████████████████████| 602/602 [2:09:55<00:00, 12.95s/batch, loss=0.0599]\n"
     ]
    },
    {
     "name": "stdout",
     "output_type": "stream",
     "text": [
      "Epoch 3/4, Training Loss: 0.0599\n",
      "Validation Accuracy: 97.10%\n"
     ]
    },
    {
     "name": "stderr",
     "output_type": "stream",
     "text": [
      "Epoch 4/4: 100%|█████████████████████████████████████████████████████████████████████████████████████████████████████████| 602/602 [2:10:15<00:00, 12.98s/batch, loss=0.048]\n"
     ]
    },
    {
     "name": "stdout",
     "output_type": "stream",
     "text": [
      "Epoch 4/4, Training Loss: 0.0480\n",
      "Validation Accuracy: 96.80%\n"
     ]
    }
   ],
   "source": [
    "# Loss function and optimizer\n",
    "criterion = nn.CrossEntropyLoss()\n",
    "optimizer = torch.optim.Adam(vgg.parameters(), lr=0.0001)\n",
    "\n",
    "# Train the model\n",
    "train_model(vgg, train_loader, val_loader, criterion, optimizer, epochs=4)\n"
   ]
  },
  {
   "cell_type": "code",
   "execution_count": 10,
   "id": "2a84d6d9-cae2-490b-8d22-78d818e7d6d0",
   "metadata": {},
   "outputs": [
    {
     "name": "stdout",
     "output_type": "stream",
     "text": [
      "Validation Accuracy: 96.80%\n"
     ]
    },
    {
     "data": {
      "text/plain": [
       "96.80278569167459"
      ]
     },
     "execution_count": 10,
     "metadata": {},
     "output_type": "execute_result"
    }
   ],
   "source": [
    "# Save model\n",
    "torch.save(vgg.state_dict(), \"cancer_model_full_dataset.pth\")\n",
    "\n",
    "# Evaluate performance\n",
    "validate_model(vgg, val_loader)\n"
   ]
  },
  {
   "cell_type": "code",
   "execution_count": null,
   "id": "8f41fe8b-62d3-4959-b549-682b4af06eeb",
   "metadata": {},
   "outputs": [],
   "source": []
  }
 ],
 "metadata": {
  "kernelspec": {
   "display_name": "Python 3 (ipykernel)",
   "language": "python",
   "name": "python3"
  },
  "language_info": {
   "codemirror_mode": {
    "name": "ipython",
    "version": 3
   },
   "file_extension": ".py",
   "mimetype": "text/x-python",
   "name": "python",
   "nbconvert_exporter": "python",
   "pygments_lexer": "ipython3",
   "version": "3.12.3"
  }
 },
 "nbformat": 4,
 "nbformat_minor": 5
}
